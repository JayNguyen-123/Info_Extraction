{
  "nbformat": 4,
  "nbformat_minor": 0,
  "metadata": {
    "colab": {
      "provenance": [],
      "authorship_tag": "ABX9TyNt8tzFr4sSqaIrV7E3PPxx",
      "include_colab_link": true
    },
    "kernelspec": {
      "name": "python3",
      "display_name": "Python 3"
    },
    "language_info": {
      "name": "python"
    }
  },
  "cells": [
    {
      "cell_type": "markdown",
      "metadata": {
        "id": "view-in-github",
        "colab_type": "text"
      },
      "source": [
        "<a href=\"https://colab.research.google.com/github/JayNguyen-123/Info_Extraction/blob/main/Info_Extraction.ipynb\" target=\"_parent\"><img src=\"https://colab.research.google.com/assets/colab-badge.svg\" alt=\"Open In Colab\"/></a>"
      ]
    },
    {
      "cell_type": "code",
      "execution_count": 11,
      "metadata": {
        "colab": {
          "base_uri": "https://localhost:8080/"
        },
        "id": "4VQ9mibIagpF",
        "outputId": "91f0bf1a-653e-41c8-85ba-d4846202f7a5"
      },
      "outputs": [
        {
          "output_type": "stream",
          "name": "stderr",
          "text": [
            "[nltk_data] Downloading package stopwords to /root/nltk_data...\n",
            "[nltk_data]   Package stopwords is already up-to-date!\n",
            "[nltk_data] Downloading package punkt_tab to /root/nltk_data...\n",
            "[nltk_data]   Package punkt_tab is already up-to-date!\n",
            "[nltk_data] Downloading package averaged_perceptron_tagger_eng to\n",
            "[nltk_data]     /root/nltk_data...\n",
            "[nltk_data]   Package averaged_perceptron_tagger_eng is already up-to-\n",
            "[nltk_data]       date!\n",
            "[nltk_data] Downloading package maxent_ne_chunker_tab to\n",
            "[nltk_data]     /root/nltk_data...\n",
            "[nltk_data]   Package maxent_ne_chunker_tab is already up-to-date!\n",
            "[nltk_data] Downloading package words to /root/nltk_data...\n",
            "[nltk_data]   Unzipping corpora/words.zip.\n"
          ]
        }
      ],
      "source": [
        "import re\n",
        "import nltk\n",
        "from nltk.corpus import stopwords\n",
        "\n",
        "nltk.download('stopwords')\n",
        "nltk.download('punkt_tab')\n",
        "nltk.download('averaged_perceptron_tagger_eng')\n",
        "nltk.download('maxent_ne_chunker_tab')\n",
        "nltk.download('words')\n",
        "stop = stopwords.words('english')\n"
      ]
    },
    {
      "cell_type": "code",
      "source": [
        "string = \"\"\"\n",
        "Hey,\n",
        "\n",
        "This week has been crazy. Attached is my report on IBM. Can you give it a quick read and provide some feedback.\n",
        "\n",
        "Also, make sure you reach out to Claire (claire@xyz.com).\n",
        "\n",
        "You're the best.\n",
        "\n",
        "\n",
        "Cheers,\n",
        "\n",
        "George W.\n",
        "212-555-1234\n",
        "\"\"\"\n",
        "\n",
        "def extract_phone_number(string):\n",
        "  r = re.compile(r'(\\d{3}[-\\.\\s]??\\d{3}[-\\.\\s]??\\d{4}|\\(\\d{3}\\)\\s*\\d{3}[-\\.\\s]??\\d{4}|\\d{3}[-\\.\\s]??\\d{4})')\n",
        "  phone_numbers = r.findall(string)\n",
        "  return [re.sub(r'\\D', '', number) for number in phone_numbers]\n",
        "\n",
        "def extract_email_addresses(string):\n",
        "  r = re.compile(r'[\\w\\.-]+@[\\w.-]+')\n",
        "  return r.findall(string)\n",
        "\n",
        "def ie_preprocess(document):\n",
        "  document = ' '.join([i for i in document.split() if i not in stop])\n",
        "  sentences = nltk.sent_tokenize(document)\n",
        "  sentences = [nltk.word_tokenize(sent) for sent in sentences]\n",
        "  sentences = [nltk.pos_tag(sent) for sent in sentences]\n",
        "  return sentences\n",
        "\n",
        "def extract_name(document):\n",
        "  names = []\n",
        "  sentences = ie_preprocess(document)\n",
        "  for tagged_sentence in sentences:\n",
        "    for chunk in nltk.ne_chunk(tagged_sentence):\n",
        "      if type(chunk) == nltk.tree.Tree:\n",
        "        if chunk.label() == 'PERSON':\n",
        "          names.append(' '.join([c[0] for c in chunk]))\n",
        "  return names\n",
        "\n",
        "\n",
        "if __name__=='__main__':\n",
        "  numbers = extract_phone_number(string)\n",
        "  emails = extract_email_addresses(string)\n",
        "  names = extract_name(string)\n",
        "  print(numbers)\n",
        "  print(emails)\n",
        "  print(names)\n"
      ],
      "metadata": {
        "colab": {
          "base_uri": "https://localhost:8080/"
        },
        "id": "o9hTDm9YvZue",
        "outputId": "35916885-b5e3-40ea-9154-34bee2942a8b"
      },
      "execution_count": 14,
      "outputs": [
        {
          "output_type": "stream",
          "name": "stdout",
          "text": [
            "['2125551234']\n",
            "['claire@xyz.com']\n",
            "['George W.']\n"
          ]
        }
      ]
    }
  ]
}